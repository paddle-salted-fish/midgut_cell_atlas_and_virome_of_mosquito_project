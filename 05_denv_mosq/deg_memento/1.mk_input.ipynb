{
 "cells": [
  {
   "cell_type": "code",
   "execution_count": 2,
   "metadata": {},
   "outputs": [],
   "source": [
    "import scanpy as sc\n",
    "import anndata"
   ]
  },
  {
   "cell_type": "code",
   "execution_count": 16,
   "metadata": {},
   "outputs": [
    {
     "data": {
      "text/plain": [
       "AnnData object with n_obs × n_vars = 40350 × 4000\n",
       "    obs: 'n_genes_by_counts', 'log1p_n_genes_by_counts', 'total_counts', 'log1p_total_counts', 'pct_counts_in_top_20_genes', 'total_counts_mt', 'log1p_total_counts_mt', 'pct_counts_mt', 'mt_outlier', 'genes_outlier', 'batch', 'leiden_res', 'cluster', 'cluster_name'\n",
       "    var: 'highly_variable', 'highly_variable_rank', 'means', 'variances', 'variances_norm', 'mean', 'std'\n",
       "    uns: 'batch_colors', 'hvg', 'leiden_res', 'leiden_res_colors', 'log1p', 'neighbors', 'pca', 'umap'\n",
       "    obsm: 'X_pca', 'X_pca_harmony', 'X_pca_raw', 'X_umap'\n",
       "    varm: 'PCs'\n",
       "    obsp: 'connectivities', 'distances'"
      ]
     },
     "execution_count": 16,
     "metadata": {},
     "output_type": "execute_result"
    }
   ],
   "source": [
    "ann = sc.read('../merge/4.ann.h5ad')\n",
    "ann.obs_names = ann.obs_names.map(lambda x: x[:-3] if x.endswith('dv-dv') or x.endswith('bl-bl') else x)\n",
    "ann"
   ]
  },
  {
   "cell_type": "code",
   "execution_count": 5,
   "metadata": {},
   "outputs": [
    {
     "data": {
      "text/plain": [
       "AnnData object with n_obs × n_vars = 30627 × 19269\n",
       "    obs: 'n_genes_by_counts', 'log1p_n_genes_by_counts', 'total_counts', 'log1p_total_counts', 'pct_counts_in_top_20_genes', 'total_counts_mt', 'log1p_total_counts_mt', 'pct_counts_mt', 'mt_outlier', 'genes_outlier', 'batch'"
      ]
     },
     "execution_count": 5,
     "metadata": {},
     "output_type": "execute_result"
    }
   ],
   "source": [
    "aae_bl_path = '/public21/home/sc90258/huangying/analysis/12.pan_mosquito/20250318_replot_mosq/aae-bl/1.QC.h5ad'\n",
    "aae_dv_path = '/public21/home/sc90258/huangying/analysis/12.pan_mosquito/20250224_denv_mosq/aae_denv/1.QC.h5ad'\n",
    "\n",
    "aae_bl = sc.read(aae_bl_path)\n",
    "aae_bl.obs_names = [f'{i}-bl' for i in aae_bl.obs_names]\n",
    "aae_dv = sc.read(aae_dv_path)\n",
    "aae_dv.obs_names = [f'{i}-dv' for i in aae_dv.obs_names]\n",
    "\n",
    "adata = anndata.concat([aae_bl, aae_dv], join=\"inner\", label=\"batch\", keys=['aae-bl', 'aae-dv'])\n",
    "adata"
   ]
  },
  {
   "cell_type": "code",
   "execution_count": 22,
   "metadata": {},
   "outputs": [
    {
     "name": "stderr",
     "output_type": "stream",
     "text": [
      "/tmp/ipykernel_100024/120733837.py:1: ImplicitModificationWarning: Trying to modify attribute `.obs` of view, initializing view as actual.\n",
      "  adata.obs['cluster'] = ann.obs['cluster']\n",
      "/tmp/ipykernel_100024/120733837.py:3: ImplicitModificationWarning: Trying to modify attribute `.obs` of view, initializing view as actual.\n",
      "  adata.obs['cmp'] = adata.obs['batch'].map(lambda x: 1 if x == 'aae-dv' else 0)\n"
     ]
    },
    {
     "data": {
      "text/plain": [
       "AnnData object with n_obs × n_vars = 30527 × 19269\n",
       "    obs: 'n_genes_by_counts', 'log1p_n_genes_by_counts', 'total_counts', 'log1p_total_counts', 'pct_counts_in_top_20_genes', 'total_counts_mt', 'log1p_total_counts_mt', 'pct_counts_mt', 'mt_outlier', 'genes_outlier', 'batch', 'cluster', 'cmp'"
      ]
     },
     "execution_count": 22,
     "metadata": {},
     "output_type": "execute_result"
    }
   ],
   "source": [
    "adata.obs['cluster'] = ann.obs['cluster']\n",
    "adata = adata[~adata.obs['cluster'].isna()]\n",
    "adata.obs['cmp'] = adata.obs['batch'].map(lambda x: 1 if x == 'aae-dv' else 0)\n",
    "adata"
   ]
  },
  {
   "cell_type": "code",
   "execution_count": 30,
   "metadata": {},
   "outputs": [],
   "source": [
    "for cell in adata.obs['cluster'].unique():\n",
    "    ofile = '1.input/' + cell.replace(r'/', '-') + '.h5ad'\n",
    "    adata[adata.obs['cluster'] == cell].write(ofile)"
   ]
  },
  {
   "cell_type": "code",
   "execution_count": 21,
   "metadata": {},
   "outputs": [],
   "source": [
    "import sys\n",
    "sys.path.insert(0, '/public21/home/sc90258/huangying/tools/scrna-parameter-estimation-master/')\n",
    "import memento"
   ]
  }
 ],
 "metadata": {
  "kernelspec": {
   "display_name": "hy-scanpy",
   "language": "python",
   "name": "python3"
  },
  "language_info": {
   "codemirror_mode": {
    "name": "ipython",
    "version": 3
   },
   "file_extension": ".py",
   "mimetype": "text/x-python",
   "name": "python",
   "nbconvert_exporter": "python",
   "pygments_lexer": "ipython3",
   "version": "3.12.9"
  }
 },
 "nbformat": 4,
 "nbformat_minor": 2
}
