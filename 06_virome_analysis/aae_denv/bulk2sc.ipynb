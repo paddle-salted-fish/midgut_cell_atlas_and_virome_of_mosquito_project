{
 "cells": [
  {
   "cell_type": "code",
   "execution_count": 1,
   "id": "2ebb021d",
   "metadata": {},
   "outputs": [],
   "source": [
    "from pathlib import Path\n",
    "import scanpy as sc\n",
    "import re, sys\n",
    "import pandas as pd"
   ]
  },
  {
   "cell_type": "code",
   "execution_count": 6,
   "id": "89dbdc14",
   "metadata": {},
   "outputs": [
    {
     "data": {
      "application/vnd.microsoft.datawrangler.viewer.v0+json": {
       "columns": [
        {
         "name": "DENV",
         "rawType": "int64",
         "type": "integer"
        },
        {
         "name": "count",
         "rawType": "int64",
         "type": "integer"
        }
       ],
       "ref": "49500006-87d4-4e49-8657-2bba19fb7e4a",
       "rows": [
        [
         "0",
         "15697"
        ],
        [
         "1",
         "4884"
        ]
       ],
       "shape": {
        "columns": 1,
        "rows": 2
       }
      },
      "text/plain": [
       "DENV\n",
       "0    15697\n",
       "1     4884\n",
       "Name: count, dtype: int64"
      ]
     },
     "execution_count": 6,
     "metadata": {},
     "output_type": "execute_result"
    }
   ],
   "source": [
    "data = pd.read_csv('exp_aae_denv.csv', index_col=0)\n",
    "data['DENV'].map(lambda x: 1 if x > 10 else 0).value_counts()"
   ]
  },
  {
   "cell_type": "code",
   "execution_count": 2,
   "id": "b472b643",
   "metadata": {},
   "outputs": [],
   "source": [
    "def parse_sam(file):\n",
    "\tresult = set()\n",
    "\twith open(file, 'r') as inputFile:\n",
    "\t\tfor line in inputFile.readlines():\n",
    "\t\t\tfields = line.split('\\t')\n",
    "\t\t\tacc = fields[2]\n",
    "\t\t\tfor item in fields[19:]:\n",
    "\t\t\t\tif item.find('CB:Z:') > -1:\n",
    "\t\t\t\t\tbarcode = re.sub(r'CB:Z:', r'', item)\n",
    "\t\t\t\tif item.find('UB:Z:') > -1:\n",
    "\t\t\t\t\tumi = re.sub(r'UB:Z:', '', item)\n",
    "\t\t\tresult.add(f'{acc}\\t{barcode}\\t{umi}')\n",
    "\treturn result\n",
    "\n",
    "def generate_table(data, target_set, target_name, suffix):\n",
    "\tfiltered_data = []\n",
    "\tfor item in data:\n",
    "\t\tif item.split('\\t')[0] in target_set:\n",
    "\t\t\tfiltered_data.append(item)\n",
    "\n",
    "\twith open('exp_aae_denv.txt', 'w') as outputFile:\n",
    "\t\tfor item in filtered_data:\n",
    "\t\t\toutputFile.write(item)\n",
    "\ttable = pd.read_table('exp_aae_denv.txt', header=None, delimiter='\\t')\n",
    "\ttable.columns = ['Accession', 'Barcode', 'UMI']\n",
    "\ttable['Accession'] = table['Accession'].map(lambda x: target_name[x])\n",
    "\ttable = table[table['Barcode'] != '-']\n",
    "\ttable = table[table['UMI'] != '-']\n",
    "\ttable = table.groupby(['Accession', 'Barcode'])['UMI'].count().reset_index()\n",
    "\ttable['Barcode'] = table['Barcode'] + suffix\n",
    "\tPath('exp_aae_denv.txt').unlink()\n",
    "\treturn table\n",
    "\n",
    "def write2csv(adata, table, target_name, suffix):\n",
    "\tumap_df = pd.DataFrame(\n",
    "\tadata.obsm['X_umap'], \n",
    "\tindex=adata.obs_names,\n",
    "\tcolumns=['UMAP_1', 'UMAP_2']  # 列名可自定义\n",
    "\t)\n",
    "\tumap_df = pd.concat([adata.obs['cluster'], umap_df], axis=1).reset_index()\n",
    "\tumap_df.columns = ['Barcode', 'Cluster', 'UMAP_1', 'UMAP_2']\n",
    "\tumap_df.to_csv('temp.csv', header=True, index=False)\n",
    "\tumap_df = pd.read_csv('temp.csv', header=0)\n",
    "\tfor name in target_name.values():\n",
    "\t\ttemp_column = table[table['Accession'] == name][['Barcode', 'UMI']]\n",
    "\t\tumap_df = umap_df.merge(temp_column, how='left', on='Barcode').fillna(0)\n",
    "\tumap_df.columns = ['Barcode', 'Cluster', 'UMAP_1', 'UMAP_2'] + list(target_name.values())\n",
    "\tumap_df.to_csv(f'exp_{suffix}.csv', index=False)\n",
    "\tPath('temp.csv').unlink()\n",
    "\tprint(umap_df)"
   ]
  },
  {
   "cell_type": "code",
   "execution_count": 4,
   "id": "c3af5fb0",
   "metadata": {},
   "outputs": [],
   "source": [
    "data = parse_sam('exp_aae_denv.sam')"
   ]
  },
  {
   "cell_type": "code",
   "execution_count": 5,
   "id": "9d52f628",
   "metadata": {},
   "outputs": [],
   "source": [
    "target_set = ['MW174761.1', 'JF327392.1', 'ON949933.1']\n",
    "target_name = {\n",
    "\t'MW174761.1': 'Totichi',\n",
    "\t'JF327392.1': 'DENV',\n",
    "\t'ON949933.1': 'HKIFV'\n",
    "}\n",
    "table = generate_table(data, target_set, target_name, '-aae-dv')"
   ]
  },
  {
   "cell_type": "code",
   "execution_count": 6,
   "id": "337eef45",
   "metadata": {},
   "outputs": [
    {
     "name": "stdout",
     "output_type": "stream",
     "text": [
      "                                    Barcode      Cluster    UMAP_1     UMAP_2  \\\n",
      "0      TACCGTCTG_AACGCTAGT_AACAAGTGG-aae-dv           EC  3.111218  14.715935   \n",
      "1      AGCTGAGTC_AACGTCCAA_AACAAGTGG-aae-dv  ISC/EB-prol  2.301203  -5.423813   \n",
      "2      CGAGATAGT_AACGTCCAA_AACAAGTGG-aae-dv    EC-like-1  5.077836   7.294407   \n",
      "3      GATGTTACG_AACGTCCAA_AACAAGTGG-aae-dv           EC  4.170012  15.500715   \n",
      "4      TCTTGCTTG_AATCCGGTG_AACAAGTGG-aae-dv     ISC/EB-1  0.290944  -1.707308   \n",
      "...                                     ...          ...       ...        ...   \n",
      "20576  CGTTAGCGT_TTGAGACAG_TTGTGTACG-aae-dv    EC-like-2  1.316366   5.112323   \n",
      "20577  ACGAATGGA_TTGCCGTCA_TTGTGTACG-aae-dv           EC  3.273036  12.975205   \n",
      "20578  ACTGCCTAG_TTGCCGTCA_TTGTGTACG-aae-dv  ISC/EB-prol  4.153238  -3.547717   \n",
      "20579  TCCGTATCA_TTGCCGTCA_TTGTGTACG-aae-dv    EC-like-2  3.380244   9.479116   \n",
      "20580  GTGCGACTA_TTGGTGACC_TTGTGTACG-aae-dv     ISC/EB-1  1.347174  -2.024645   \n",
      "\n",
      "       Totichi  DENV  HKIFV  \n",
      "0          0.0   1.0    5.0  \n",
      "1          0.0   1.0    0.0  \n",
      "2          0.0   2.0    6.0  \n",
      "3          1.0  67.0    0.0  \n",
      "4          0.0   0.0    1.0  \n",
      "...        ...   ...    ...  \n",
      "20576      0.0   7.0    2.0  \n",
      "20577      0.0   0.0    2.0  \n",
      "20578      0.0   3.0    1.0  \n",
      "20579      0.0   5.0    0.0  \n",
      "20580      0.0   2.0    0.0  \n",
      "\n",
      "[20581 rows x 7 columns]\n"
     ]
    }
   ],
   "source": [
    "adata = sc.read('../../../processed_h5ad/aae_bl_denv.h5ad')\n",
    "adata = adata[adata.obs['batch'] == 'aae-dv']\n",
    "write2csv(adata, table, target_name, 'aae_denv')"
   ]
  },
  {
   "cell_type": "code",
   "execution_count": null,
   "id": "48022aac",
   "metadata": {},
   "outputs": [
    {
     "data": {
      "application/vnd.microsoft.datawrangler.viewer.v0+json": {
       "columns": [
        {
         "name": "index",
         "rawType": "int64",
         "type": "integer"
        },
        {
         "name": "Barcode",
         "rawType": "object",
         "type": "string"
        },
        {
         "name": "UMAP_1",
         "rawType": "float32",
         "type": "float"
        },
        {
         "name": "UMAP_2",
         "rawType": "float32",
         "type": "float"
        },
        {
         "name": "Totichi",
         "rawType": "float64",
         "type": "float"
        },
        {
         "name": "DENV",
         "rawType": "float64",
         "type": "float"
        },
        {
         "name": "HKIFV",
         "rawType": "float64",
         "type": "float"
        }
       ],
       "ref": "d16d5dd4-10d9-4747-b4d0-7dacb11de84a",
       "rows": [
        [
         "0",
         "TACCGTCTG_AACGCTAGT_AACAAGTGG-aae-dv",
         "3.111218",
         "14.715935",
         "0.0",
         "1.0",
         "5.0"
        ],
        [
         "1",
         "AGCTGAGTC_AACGTCCAA_AACAAGTGG-aae-dv",
         "2.3012028",
         "-5.4238133",
         "0.0",
         "1.0",
         "0.0"
        ],
        [
         "2",
         "CGAGATAGT_AACGTCCAA_AACAAGTGG-aae-dv",
         "5.0778356",
         "7.2944074",
         "0.0",
         "2.0",
         "6.0"
        ],
        [
         "3",
         "GATGTTACG_AACGTCCAA_AACAAGTGG-aae-dv",
         "4.1700115",
         "15.500715",
         "1.0",
         "67.0",
         "0.0"
        ],
        [
         "4",
         "TCTTGCTTG_AATCCGGTG_AACAAGTGG-aae-dv",
         "0.2909438",
         "-1.7073082",
         "0.0",
         "0.0",
         "1.0"
        ],
        [
         "5",
         "TGAGCGAAG_ACACCAACG_AACAAGTGG-aae-dv",
         "-5.7432513",
         "7.3089104",
         "0.0",
         "2.0",
         "6.0"
        ],
        [
         "6",
         "AGCTGAGTC_ACCAGGTCA_AACAAGTGG-aae-dv",
         "1.2352328",
         "12.557115",
         "0.0",
         "1.0",
         "0.0"
        ],
        [
         "7",
         "AATCGCCAC_ACCGTACTC_AACAAGTGG-aae-dv",
         "3.8310235",
         "13.889375",
         "0.0",
         "0.0",
         "0.0"
        ],
        [
         "8",
         "GAACGCTAT_ACCTCGACT_AACAAGTGG-aae-dv",
         "2.723621",
         "8.642132",
         "0.0",
         "4.0",
         "5.0"
        ],
        [
         "9",
         "GCCGTTATT_ACGTTACGA_AACAAGTGG-aae-dv",
         "-0.10493614",
         "16.46614",
         "0.0",
         "2.0",
         "1.0"
        ],
        [
         "10",
         "TCGACTGTC_ACGTTACGA_AACAAGTGG-aae-dv",
         "2.999229",
         "15.949401",
         "0.0",
         "12.0",
         "6.0"
        ],
        [
         "11",
         "GTGTTAAGG_AGACGAAGT_AACAAGTGG-aae-dv",
         "4.609464",
         "11.323489",
         "0.0",
         "11.0",
         "4.0"
        ],
        [
         "12",
         "TCTGGCGAA_AGATACGCA_AACAAGTGG-aae-dv",
         "-1.6921387",
         "-3.8364856",
         "0.0",
         "19.0",
         "1.0"
        ],
        [
         "13",
         "TGAGCGAAG_AGATACGCA_AACAAGTGG-aae-dv",
         "-1.608535",
         "-2.6056015",
         "0.0",
         "0.0",
         "5.0"
        ],
        [
         "14",
         "TGGAGAACC_AGATACGCA_AACAAGTGG-aae-dv",
         "3.7044985",
         "-4.2166824",
         "1.0",
         "3.0",
         "0.0"
        ],
        [
         "15",
         "GGATACCAC_AGCATAGCG_AACAAGTGG-aae-dv",
         "3.9655635",
         "14.30728",
         "0.0",
         "6.0",
         "2.0"
        ],
        [
         "16",
         "AACTGGCGA_AGCCACATA_AACAAGTGG-aae-dv",
         "3.6043825",
         "14.680842",
         "0.0",
         "26.0",
         "3.0"
        ],
        [
         "17",
         "CAGTCTTCG_AGGCTGTTG_AACAAGTGG-aae-dv",
         "1.5568283",
         "6.686493",
         "0.0",
         "1.0",
         "2.0"
        ],
        [
         "18",
         "TGGAACGTA_AGGCTGTTG_AACAAGTGG-aae-dv",
         "-0.099573396",
         "14.655454",
         "0.0",
         "1.0",
         "3.0"
        ],
        [
         "19",
         "ATGGTCTCA_AGTGGTGGT_AACAAGTGG-aae-dv",
         "10.446068",
         "1.1832705",
         "0.0",
         "2.0",
         "0.0"
        ],
        [
         "20",
         "CACCTGTAA_ATACCAGTC_AACAAGTGG-aae-dv",
         "3.3452609",
         "12.54501",
         "0.0",
         "2.0",
         "1.0"
        ],
        [
         "21",
         "TCTGGCGAA_ATAGCGTGT_AACAAGTGG-aae-dv",
         "-3.053027",
         "4.81411",
         "0.0",
         "1.0",
         "1.0"
        ],
        [
         "22",
         "CTCACGTTC_ATGCCTAAG_AACAAGTGG-aae-dv",
         "0.6954163",
         "17.508924",
         "0.0",
         "5.0",
         "5.0"
        ],
        [
         "23",
         "ACACACCAA_ATGCGATAC_AACAAGTGG-aae-dv",
         "1.3412552",
         "18.455688",
         "0.0",
         "6.0",
         "4.0"
        ],
        [
         "24",
         "CAACATCGG_ATGCGATAC_AACAAGTGG-aae-dv",
         "4.1348295",
         "7.162046",
         "0.0",
         "65.0",
         "3.0"
        ],
        [
         "25",
         "GTGCATATC_ATGTATCGG_AACAAGTGG-aae-dv",
         "1.3911481",
         "2.1177475",
         "0.0",
         "2.0",
         "0.0"
        ],
        [
         "26",
         "CTTGACGTT_CAATGCAAC_AACAAGTGG-aae-dv",
         "2.0637746",
         "5.217553",
         "0.0",
         "1.0",
         "4.0"
        ],
        [
         "27",
         "GTTACTGGT_CAGCCGAAT_AACAAGTGG-aae-dv",
         "0.77541286",
         "13.110554",
         "0.0",
         "2.0",
         "3.0"
        ],
        [
         "28",
         "GACCTTAGC_CATCGGTTC_AACAAGTGG-aae-dv",
         "4.489784",
         "-4.3120728",
         "0.0",
         "5.0",
         "2.0"
        ],
        [
         "29",
         "ACACAGGCT_CCAGAAGAT_AACAAGTGG-aae-dv",
         "4.9331427",
         "10.000717",
         "0.0",
         "159.0",
         "9.0"
        ],
        [
         "30",
         "TGCATCAAG_CCAGAAGAT_AACAAGTGG-aae-dv",
         "1.5142779",
         "12.606445",
         "0.0",
         "20.0",
         "1.0"
        ],
        [
         "31",
         "AGTAGGAGG_CCATAATCG_AACAAGTGG-aae-dv",
         "-4.8988843",
         "6.585899",
         "0.0",
         "0.0",
         "0.0"
        ],
        [
         "32",
         "CCTTGAATC_CCTACAAGG_AACAAGTGG-aae-dv",
         "1.2918212",
         "13.9435625",
         "0.0",
         "11.0",
         "2.0"
        ],
        [
         "33",
         "CTTGACGTT_CCTACAAGG_AACAAGTGG-aae-dv",
         "1.0002903",
         "14.126721",
         "0.0",
         "5.0",
         "1.0"
        ],
        [
         "34",
         "CTGGTACTT_CGAGTTGCA_AACAAGTGG-aae-dv",
         "-4.173686",
         "3.9097943",
         "0.0",
         "3.0",
         "1.0"
        ],
        [
         "35",
         "AACTGGCGA_CGATAAGGC_AACAAGTGG-aae-dv",
         "5.5302305",
         "10.627034",
         "0.0",
         "0.0",
         "2.0"
        ],
        [
         "36",
         "GTGCATATC_CGATAAGGC_AACAAGTGG-aae-dv",
         "-0.89486456",
         "-2.9894679",
         "0.0",
         "0.0",
         "1.0"
        ],
        [
         "37",
         "TATCTCCGA_CGATAAGGC_AACAAGTGG-aae-dv",
         "2.6871624",
         "9.819966",
         "0.0",
         "0.0",
         "0.0"
        ],
        [
         "38",
         "CAACATCGG_CGGCTAGAT_AACAAGTGG-aae-dv",
         "1.3376591",
         "15.886655",
         "0.0",
         "1.0",
         "1.0"
        ],
        [
         "39",
         "TCTTGGACA_CGGCTAGAT_AACAAGTGG-aae-dv",
         "1.0311072",
         "14.865372",
         "0.0",
         "6.0",
         "3.0"
        ],
        [
         "40",
         "AGGAGCAAT_CGTAATTGG_AACAAGTGG-aae-dv",
         "0.30080503",
         "-2.7180254",
         "0.0",
         "1.0",
         "1.0"
        ],
        [
         "41",
         "CCAGCTAAC_CGTAATTGG_AACAAGTGG-aae-dv",
         "1.4455432",
         "-4.9363427",
         "0.0",
         "0.0",
         "0.0"
        ],
        [
         "42",
         "AACGGACCT_CGTACTGAA_AACAAGTGG-aae-dv",
         "-1.7849715",
         "-4.166038",
         "0.0",
         "2.0",
         "1.0"
        ],
        [
         "43",
         "GAACGCTAT_CGTCATACC_AACAAGTGG-aae-dv",
         "1.4542077",
         "-5.3805904",
         "0.0",
         "6.0",
         "2.0"
        ],
        [
         "44",
         "GCGTAGTAA_CGTCATACC_AACAAGTGG-aae-dv",
         "2.6897657",
         "6.5856643",
         "0.0",
         "2.0",
         "2.0"
        ],
        [
         "45",
         "ACTGCCTAG_CTAACCAGA_AACAAGTGG-aae-dv",
         "-3.2309783",
         "1.4102961",
         "0.0",
         "4.0",
         "0.0"
        ],
        [
         "46",
         "TACCGTCTG_CTAACCAGA_AACAAGTGG-aae-dv",
         "0.59079635",
         "16.963505",
         "0.0",
         "4.0",
         "4.0"
        ],
        [
         "47",
         "TGTAGTGTG_CTAACCAGA_AACAAGTGG-aae-dv",
         "0.12962042",
         "-5.4027944",
         "0.0",
         "2.0",
         "0.0"
        ],
        [
         "48",
         "CAGTCTTCG_CTAATCGCG_AACAAGTGG-aae-dv",
         "-1.219751",
         "5.39398",
         "0.0",
         "11.0",
         "1.0"
        ],
        [
         "49",
         "GTTACTGGT_CTAATCGCG_AACAAGTGG-aae-dv",
         "-0.011548669",
         "13.379023",
         "0.0",
         "4.0",
         "2.0"
        ]
       ],
       "shape": {
        "columns": 6,
        "rows": 20581
       }
      },
      "text/html": [
       "<div>\n",
       "<style scoped>\n",
       "    .dataframe tbody tr th:only-of-type {\n",
       "        vertical-align: middle;\n",
       "    }\n",
       "\n",
       "    .dataframe tbody tr th {\n",
       "        vertical-align: top;\n",
       "    }\n",
       "\n",
       "    .dataframe thead th {\n",
       "        text-align: right;\n",
       "    }\n",
       "</style>\n",
       "<table border=\"1\" class=\"dataframe\">\n",
       "  <thead>\n",
       "    <tr style=\"text-align: right;\">\n",
       "      <th></th>\n",
       "      <th>Barcode</th>\n",
       "      <th>UMAP_1</th>\n",
       "      <th>UMAP_2</th>\n",
       "      <th>Totichi</th>\n",
       "      <th>DENV</th>\n",
       "      <th>HKIFV</th>\n",
       "    </tr>\n",
       "  </thead>\n",
       "  <tbody>\n",
       "    <tr>\n",
       "      <th>0</th>\n",
       "      <td>TACCGTCTG_AACGCTAGT_AACAAGTGG-aae-dv</td>\n",
       "      <td>3.111218</td>\n",
       "      <td>14.715935</td>\n",
       "      <td>0.0</td>\n",
       "      <td>1.0</td>\n",
       "      <td>5.0</td>\n",
       "    </tr>\n",
       "    <tr>\n",
       "      <th>1</th>\n",
       "      <td>AGCTGAGTC_AACGTCCAA_AACAAGTGG-aae-dv</td>\n",
       "      <td>2.301203</td>\n",
       "      <td>-5.423813</td>\n",
       "      <td>0.0</td>\n",
       "      <td>1.0</td>\n",
       "      <td>0.0</td>\n",
       "    </tr>\n",
       "    <tr>\n",
       "      <th>2</th>\n",
       "      <td>CGAGATAGT_AACGTCCAA_AACAAGTGG-aae-dv</td>\n",
       "      <td>5.077836</td>\n",
       "      <td>7.294407</td>\n",
       "      <td>0.0</td>\n",
       "      <td>2.0</td>\n",
       "      <td>6.0</td>\n",
       "    </tr>\n",
       "    <tr>\n",
       "      <th>3</th>\n",
       "      <td>GATGTTACG_AACGTCCAA_AACAAGTGG-aae-dv</td>\n",
       "      <td>4.170012</td>\n",
       "      <td>15.500715</td>\n",
       "      <td>1.0</td>\n",
       "      <td>67.0</td>\n",
       "      <td>0.0</td>\n",
       "    </tr>\n",
       "    <tr>\n",
       "      <th>4</th>\n",
       "      <td>TCTTGCTTG_AATCCGGTG_AACAAGTGG-aae-dv</td>\n",
       "      <td>0.290944</td>\n",
       "      <td>-1.707308</td>\n",
       "      <td>0.0</td>\n",
       "      <td>0.0</td>\n",
       "      <td>1.0</td>\n",
       "    </tr>\n",
       "    <tr>\n",
       "      <th>...</th>\n",
       "      <td>...</td>\n",
       "      <td>...</td>\n",
       "      <td>...</td>\n",
       "      <td>...</td>\n",
       "      <td>...</td>\n",
       "      <td>...</td>\n",
       "    </tr>\n",
       "    <tr>\n",
       "      <th>20576</th>\n",
       "      <td>CGTTAGCGT_TTGAGACAG_TTGTGTACG-aae-dv</td>\n",
       "      <td>1.316366</td>\n",
       "      <td>5.112323</td>\n",
       "      <td>0.0</td>\n",
       "      <td>7.0</td>\n",
       "      <td>2.0</td>\n",
       "    </tr>\n",
       "    <tr>\n",
       "      <th>20577</th>\n",
       "      <td>ACGAATGGA_TTGCCGTCA_TTGTGTACG-aae-dv</td>\n",
       "      <td>3.273036</td>\n",
       "      <td>12.975205</td>\n",
       "      <td>0.0</td>\n",
       "      <td>0.0</td>\n",
       "      <td>2.0</td>\n",
       "    </tr>\n",
       "    <tr>\n",
       "      <th>20578</th>\n",
       "      <td>ACTGCCTAG_TTGCCGTCA_TTGTGTACG-aae-dv</td>\n",
       "      <td>4.153238</td>\n",
       "      <td>-3.547717</td>\n",
       "      <td>0.0</td>\n",
       "      <td>3.0</td>\n",
       "      <td>1.0</td>\n",
       "    </tr>\n",
       "    <tr>\n",
       "      <th>20579</th>\n",
       "      <td>TCCGTATCA_TTGCCGTCA_TTGTGTACG-aae-dv</td>\n",
       "      <td>3.380244</td>\n",
       "      <td>9.479116</td>\n",
       "      <td>0.0</td>\n",
       "      <td>5.0</td>\n",
       "      <td>0.0</td>\n",
       "    </tr>\n",
       "    <tr>\n",
       "      <th>20580</th>\n",
       "      <td>GTGCGACTA_TTGGTGACC_TTGTGTACG-aae-dv</td>\n",
       "      <td>1.347174</td>\n",
       "      <td>-2.024645</td>\n",
       "      <td>0.0</td>\n",
       "      <td>2.0</td>\n",
       "      <td>0.0</td>\n",
       "    </tr>\n",
       "  </tbody>\n",
       "</table>\n",
       "<p>20581 rows × 6 columns</p>\n",
       "</div>"
      ],
      "text/plain": [
       "                                    Barcode    UMAP_1     UMAP_2  Totichi  \\\n",
       "0      TACCGTCTG_AACGCTAGT_AACAAGTGG-aae-dv  3.111218  14.715935      0.0   \n",
       "1      AGCTGAGTC_AACGTCCAA_AACAAGTGG-aae-dv  2.301203  -5.423813      0.0   \n",
       "2      CGAGATAGT_AACGTCCAA_AACAAGTGG-aae-dv  5.077836   7.294407      0.0   \n",
       "3      GATGTTACG_AACGTCCAA_AACAAGTGG-aae-dv  4.170012  15.500715      1.0   \n",
       "4      TCTTGCTTG_AATCCGGTG_AACAAGTGG-aae-dv  0.290944  -1.707308      0.0   \n",
       "...                                     ...       ...        ...      ...   \n",
       "20576  CGTTAGCGT_TTGAGACAG_TTGTGTACG-aae-dv  1.316366   5.112323      0.0   \n",
       "20577  ACGAATGGA_TTGCCGTCA_TTGTGTACG-aae-dv  3.273036  12.975205      0.0   \n",
       "20578  ACTGCCTAG_TTGCCGTCA_TTGTGTACG-aae-dv  4.153238  -3.547717      0.0   \n",
       "20579  TCCGTATCA_TTGCCGTCA_TTGTGTACG-aae-dv  3.380244   9.479116      0.0   \n",
       "20580  GTGCGACTA_TTGGTGACC_TTGTGTACG-aae-dv  1.347174  -2.024645      0.0   \n",
       "\n",
       "       DENV  HKIFV  \n",
       "0       1.0    5.0  \n",
       "1       1.0    0.0  \n",
       "2       2.0    6.0  \n",
       "3      67.0    0.0  \n",
       "4       0.0    1.0  \n",
       "...     ...    ...  \n",
       "20576   7.0    2.0  \n",
       "20577   0.0    2.0  \n",
       "20578   3.0    1.0  \n",
       "20579   5.0    0.0  \n",
       "20580   2.0    0.0  \n",
       "\n",
       "[20581 rows x 6 columns]"
      ]
     },
     "execution_count": 99,
     "metadata": {},
     "output_type": "execute_result"
    }
   ],
   "source": [
    "adata = sc.read('../../../processed_h5ad/aae_bl_denv.h5ad')\n",
    "adata = adata[adata.obs['batch'] == 'aae-dv']\n",
    "umap_df = pd.DataFrame(\n",
    "\tadata.obsm['X_umap'], \n",
    "\tindex=adata.obs_names,\n",
    "\tcolumns=['UMAP_1', 'UMAP_2']  # 列名可自定义\n",
    ").reset_index()\n",
    "umap_df.columns = ['Barcode', 'UMAP_1', 'UMAP_2']\n",
    "for name in target_name.values():\n",
    "\ttemp_column = table[table['Accession'] == name][['Barcode', 'UMI']]\n",
    "\tumap_df = umap_df.merge(temp_column, how='left', on='Barcode').fillna(0)\n",
    "umap_df.columns = ['Barcode', 'UMAP_1', 'UMAP_2'] + list(target_name.values())\n",
    "# DENV = table[table['Accession'] == 'DENV'][['Barcode', 'UMI']]\n",
    "# HKIFV = table[table['Accession'] == 'HKIFV'][['Barcode', 'UMI']]\n",
    "# umap_df = umap_df.merge(DENV, how='left', on='Barcode').fillna(0)\n",
    "# umap_df = umap_df.merge(HKIFV, how='left', on='Barcode').fillna(0)\n",
    "# umap_df.columns = ['Barcode', 'UMAP_1', 'UMAP_2',]\n",
    "umap_df.to_csv('exp_aae_denv.csv')"
   ]
  },
  {
   "cell_type": "code",
   "execution_count": 104,
   "id": "f6e51aed",
   "metadata": {},
   "outputs": [
    {
     "name": "stdout",
     "output_type": "stream",
     "text": [
      "                                    Barcode    UMAP_1     UMAP_2  Totichi  \\\n",
      "0      TACCGTCTG_AACGCTAGT_AACAAGTGG-aae-dv  3.111218  14.715935      0.0   \n",
      "1      AGCTGAGTC_AACGTCCAA_AACAAGTGG-aae-dv  2.301203  -5.423813      0.0   \n",
      "2      CGAGATAGT_AACGTCCAA_AACAAGTGG-aae-dv  5.077836   7.294407      0.0   \n",
      "3      GATGTTACG_AACGTCCAA_AACAAGTGG-aae-dv  4.170012  15.500715      1.0   \n",
      "4      TCTTGCTTG_AATCCGGTG_AACAAGTGG-aae-dv  0.290944  -1.707308      0.0   \n",
      "...                                     ...       ...        ...      ...   \n",
      "20576  CGTTAGCGT_TTGAGACAG_TTGTGTACG-aae-dv  1.316366   5.112323      0.0   \n",
      "20577  ACGAATGGA_TTGCCGTCA_TTGTGTACG-aae-dv  3.273036  12.975205      0.0   \n",
      "20578  ACTGCCTAG_TTGCCGTCA_TTGTGTACG-aae-dv  4.153238  -3.547717      0.0   \n",
      "20579  TCCGTATCA_TTGCCGTCA_TTGTGTACG-aae-dv  3.380244   9.479116      0.0   \n",
      "20580  GTGCGACTA_TTGGTGACC_TTGTGTACG-aae-dv  1.347174  -2.024645      0.0   \n",
      "\n",
      "       DENV  HKIFV  \n",
      "0       1.0    5.0  \n",
      "1       1.0    0.0  \n",
      "2       2.0    6.0  \n",
      "3      67.0    0.0  \n",
      "4       0.0    1.0  \n",
      "...     ...    ...  \n",
      "20576   7.0    2.0  \n",
      "20577   0.0    2.0  \n",
      "20578   3.0    1.0  \n",
      "20579   5.0    0.0  \n",
      "20580   2.0    0.0  \n",
      "\n",
      "[20581 rows x 6 columns]\n"
     ]
    }
   ],
   "source": [
    "adata = sc.read('../../../processed_h5ad/aae_bl_denv.h5ad')\n",
    "adata = adata[adata.obs['batch'] == 'aae-dv']\n",
    "write2csv(adata, table)"
   ]
  }
 ],
 "metadata": {
  "kernelspec": {
   "display_name": "Scanpy1.11.1",
   "language": "python",
   "name": "python3"
  },
  "language_info": {
   "codemirror_mode": {
    "name": "ipython",
    "version": 3
   },
   "file_extension": ".py",
   "mimetype": "text/x-python",
   "name": "python",
   "nbconvert_exporter": "python",
   "pygments_lexer": "ipython3",
   "version": "3.12.9"
  }
 },
 "nbformat": 4,
 "nbformat_minor": 5
}
