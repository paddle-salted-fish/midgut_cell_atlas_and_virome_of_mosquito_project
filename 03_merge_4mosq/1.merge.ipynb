{
 "cells": [
  {
   "cell_type": "code",
   "execution_count": 1,
   "metadata": {},
   "outputs": [
    {
     "name": "stderr",
     "output_type": "stream",
     "text": [
      "/public21/home/sc90258/miniconda3/envs/hy-scvi/lib/python3.12/site-packages/tqdm/auto.py:21: TqdmWarning: IProgress not found. Please update jupyter and ipywidgets. See https://ipywidgets.readthedocs.io/en/stable/user_install.html\n",
      "  from .autonotebook import tqdm as notebook_tqdm\n"
     ]
    }
   ],
   "source": [
    "import scvi\n",
    "import scanpy as sc\n",
    "import anndata\n",
    "import pandas as pd"
   ]
  },
  {
   "cell_type": "markdown",
   "metadata": {},
   "source": [
    "# read in data"
   ]
  },
  {
   "cell_type": "code",
   "execution_count": 2,
   "metadata": {},
   "outputs": [],
   "source": [
    "aae_path = '/public21/home/sc90258/huangying/analysis/12.pan_mosquito/20250318_replot_mosq/aae/1.QC.h5ad'\n",
    "alb_path = '/public21/home/sc90258/huangying/analysis/12.pan_mosquito/20250318_replot_mosq/alb/1.QC.h5ad'\n",
    "cxtri_path = '/public21/home/sc90258/huangying/analysis/12.pan_mosquito/20250318_replot_mosq/cxtri/1.QC.h5ad'\n",
    "cxpip_path = '/public21/home/sc90258/huangying/analysis/12.pan_mosquito/20250318_replot_mosq/cxpip/1.QC.h5ad'"
   ]
  },
  {
   "cell_type": "code",
   "execution_count": 3,
   "metadata": {},
   "outputs": [],
   "source": [
    "aae = sc.read(aae_path)\n",
    "aae.obs_names = [f'{i}-aae' for i in aae.obs_names]\n",
    "alb = sc.read(alb_path)\n",
    "alb.obs_names = [f'{i}-alb' for i in alb.obs_names]\n",
    "cxtri = sc.read(cxtri_path)\n",
    "cxtri.obs_names = [f'{i}-cxtri' for i in cxtri.obs_names]\n",
    "cxpip = sc.read(cxpip_path)\n",
    "cxpip.obs_names = [f'{i}-cxpip' for i in cxpip.obs_names]"
   ]
  },
  {
   "cell_type": "code",
   "execution_count": 4,
   "metadata": {},
   "outputs": [
    {
     "data": {
      "text/html": [
       "<div>\n",
       "<style scoped>\n",
       "    .dataframe tbody tr th:only-of-type {\n",
       "        vertical-align: middle;\n",
       "    }\n",
       "\n",
       "    .dataframe tbody tr th {\n",
       "        vertical-align: top;\n",
       "    }\n",
       "\n",
       "    .dataframe thead th {\n",
       "        text-align: right;\n",
       "    }\n",
       "</style>\n",
       "<table border=\"1\" class=\"dataframe\">\n",
       "  <thead>\n",
       "    <tr style=\"text-align: right;\">\n",
       "      <th></th>\n",
       "      <th>aae</th>\n",
       "      <th>alb</th>\n",
       "      <th>cxpip</th>\n",
       "      <th>cxtri</th>\n",
       "    </tr>\n",
       "  </thead>\n",
       "  <tbody>\n",
       "    <tr>\n",
       "      <th>0</th>\n",
       "      <td>LOC110673977</td>\n",
       "      <td>LOC109409628</td>\n",
       "      <td>LOC120416324</td>\n",
       "      <td>Ctri05375</td>\n",
       "    </tr>\n",
       "    <tr>\n",
       "      <th>1</th>\n",
       "      <td>LOC110673980</td>\n",
       "      <td>LOC115258594</td>\n",
       "      <td>LOC120427986</td>\n",
       "      <td>Ctri05761</td>\n",
       "    </tr>\n",
       "    <tr>\n",
       "      <th>2</th>\n",
       "      <td>LOC110673981</td>\n",
       "      <td>LOC109427304</td>\n",
       "      <td>LOC120415083</td>\n",
       "      <td>Ctri12482</td>\n",
       "    </tr>\n",
       "    <tr>\n",
       "      <th>3</th>\n",
       "      <td>LOC110673983</td>\n",
       "      <td>LOC109402949</td>\n",
       "      <td>LOC120425061</td>\n",
       "      <td>Ctri03408</td>\n",
       "    </tr>\n",
       "    <tr>\n",
       "      <th>4</th>\n",
       "      <td>LOC110673984</td>\n",
       "      <td>LOC134285458</td>\n",
       "      <td>LOC120428736</td>\n",
       "      <td>Ctri02287</td>\n",
       "    </tr>\n",
       "    <tr>\n",
       "      <th>...</th>\n",
       "      <td>...</td>\n",
       "      <td>...</td>\n",
       "      <td>...</td>\n",
       "      <td>...</td>\n",
       "    </tr>\n",
       "    <tr>\n",
       "      <th>8167</th>\n",
       "      <td>LOC5580326</td>\n",
       "      <td>LOC109420085</td>\n",
       "      <td>LOC120419188</td>\n",
       "      <td>Ctri05472</td>\n",
       "    </tr>\n",
       "    <tr>\n",
       "      <th>8168</th>\n",
       "      <td>LOC5580327</td>\n",
       "      <td>LOC109420086</td>\n",
       "      <td>LOC120419195</td>\n",
       "      <td>Ctri05473</td>\n",
       "    </tr>\n",
       "    <tr>\n",
       "      <th>8169</th>\n",
       "      <td>LOC5580329</td>\n",
       "      <td>LOC109420083</td>\n",
       "      <td>LOC120419194</td>\n",
       "      <td>Ctri05470</td>\n",
       "    </tr>\n",
       "    <tr>\n",
       "      <th>8170</th>\n",
       "      <td>LOC5580330</td>\n",
       "      <td>LOC109420082</td>\n",
       "      <td>LOC120422788</td>\n",
       "      <td>Ctri05866</td>\n",
       "    </tr>\n",
       "    <tr>\n",
       "      <th>8171</th>\n",
       "      <td>LOC5580331</td>\n",
       "      <td>LOC109420081</td>\n",
       "      <td>LOC120422783</td>\n",
       "      <td>Ctri05865</td>\n",
       "    </tr>\n",
       "  </tbody>\n",
       "</table>\n",
       "<p>8172 rows × 4 columns</p>\n",
       "</div>"
      ],
      "text/plain": [
       "               aae           alb         cxpip      cxtri\n",
       "0     LOC110673977  LOC109409628  LOC120416324  Ctri05375\n",
       "1     LOC110673980  LOC115258594  LOC120427986  Ctri05761\n",
       "2     LOC110673981  LOC109427304  LOC120415083  Ctri12482\n",
       "3     LOC110673983  LOC109402949  LOC120425061  Ctri03408\n",
       "4     LOC110673984  LOC134285458  LOC120428736  Ctri02287\n",
       "...            ...           ...           ...        ...\n",
       "8167    LOC5580326  LOC109420085  LOC120419188  Ctri05472\n",
       "8168    LOC5580327  LOC109420086  LOC120419195  Ctri05473\n",
       "8169    LOC5580329  LOC109420083  LOC120419194  Ctri05470\n",
       "8170    LOC5580330  LOC109420082  LOC120422788  Ctri05866\n",
       "8171    LOC5580331  LOC109420081  LOC120422783  Ctri05865\n",
       "\n",
       "[8172 rows x 4 columns]"
      ]
     },
     "execution_count": 4,
     "metadata": {},
     "output_type": "execute_result"
    }
   ],
   "source": [
    "homog = pd.read_csv('/public21/home/sc90258/huangying/analysis/12.pan_mosquito/20240830_homo_gene/mosquito_all_homog.csv')\n",
    "homog"
   ]
  },
  {
   "cell_type": "code",
   "execution_count": 5,
   "metadata": {},
   "outputs": [],
   "source": [
    "def gname_to_aae(adata, sp):\n",
    "    dct = dict(homog[[sp, 'aae']].values)\n",
    "    var_names_sub = [i for i in adata.var_names if i in dct.keys()]\n",
    "    homo_var_names = [dct[i] for i in adata.var_names if i in dct.keys()]\n",
    "    adata_homo = adata[:, var_names_sub]\n",
    "    adata_homo.var_names = homo_var_names\n",
    "\n",
    "    return adata_homo"
   ]
  },
  {
   "cell_type": "code",
   "execution_count": 6,
   "metadata": {},
   "outputs": [
    {
     "data": {
      "text/plain": [
       "AnnData object with n_obs × n_vars = 9239 × 19269\n",
       "    obs: 'n_genes_by_counts', 'log1p_n_genes_by_counts', 'total_counts', 'log1p_total_counts', 'pct_counts_in_top_20_genes', 'total_counts_mt', 'log1p_total_counts_mt', 'pct_counts_mt', 'mt_outlier', 'genes_outlier'\n",
       "    var: 'gene_ids', 'feature_types', 'mt', 'n_cells_by_counts', 'mean_counts', 'log1p_mean_counts', 'pct_dropout_by_counts', 'total_counts', 'log1p_total_counts'"
      ]
     },
     "execution_count": 6,
     "metadata": {},
     "output_type": "execute_result"
    }
   ],
   "source": [
    "aae"
   ]
  },
  {
   "cell_type": "code",
   "execution_count": 7,
   "metadata": {},
   "outputs": [
    {
     "data": {
      "text/plain": [
       "AnnData object with n_obs × n_vars = 17538 × 8166\n",
       "    obs: 'n_genes_by_counts', 'log1p_n_genes_by_counts', 'total_counts', 'log1p_total_counts', 'pct_counts_in_top_20_genes', 'total_counts_mt', 'log1p_total_counts_mt', 'pct_counts_mt', 'mt_outlier', 'genes_outlier'\n",
       "    var: 'gene_ids', 'feature_types', 'mt', 'n_cells_by_counts', 'mean_counts', 'log1p_mean_counts', 'pct_dropout_by_counts', 'total_counts', 'log1p_total_counts'"
      ]
     },
     "execution_count": 7,
     "metadata": {},
     "output_type": "execute_result"
    }
   ],
   "source": [
    "alb_homo = gname_to_aae(alb, 'alb')\n",
    "alb_homo"
   ]
  },
  {
   "cell_type": "code",
   "execution_count": 8,
   "metadata": {},
   "outputs": [
    {
     "data": {
      "text/plain": [
       "AnnData object with n_obs × n_vars = 5548 × 8172\n",
       "    obs: 'n_genes_by_counts', 'log1p_n_genes_by_counts', 'total_counts', 'log1p_total_counts', 'pct_counts_in_top_20_genes', 'total_counts_mt', 'log1p_total_counts_mt', 'pct_counts_mt', 'mt_outlier', 'genes_outlier'\n",
       "    var: 'gene_ids', 'feature_types', 'mt', 'n_cells_by_counts', 'mean_counts', 'log1p_mean_counts', 'pct_dropout_by_counts', 'total_counts', 'log1p_total_counts'"
      ]
     },
     "execution_count": 8,
     "metadata": {},
     "output_type": "execute_result"
    }
   ],
   "source": [
    "cxtri_homo = gname_to_aae(cxtri, 'cxtri')\n",
    "cxtri_homo"
   ]
  },
  {
   "cell_type": "code",
   "execution_count": 9,
   "metadata": {},
   "outputs": [
    {
     "data": {
      "text/plain": [
       "AnnData object with n_obs × n_vars = 9844 × 8166\n",
       "    obs: 'n_genes_by_counts', 'log1p_n_genes_by_counts', 'total_counts', 'log1p_total_counts', 'pct_counts_in_top_20_genes', 'total_counts_mt', 'log1p_total_counts_mt', 'pct_counts_mt', 'mt_outlier', 'genes_outlier'\n",
       "    var: 'gene_ids', 'mt', 'n_cells_by_counts', 'mean_counts', 'log1p_mean_counts', 'pct_dropout_by_counts', 'total_counts', 'log1p_total_counts'"
      ]
     },
     "execution_count": 9,
     "metadata": {},
     "output_type": "execute_result"
    }
   ],
   "source": [
    "cxpip_homog = gname_to_aae(cxpip, 'cxpip')\n",
    "cxpip_homog"
   ]
  },
  {
   "cell_type": "markdown",
   "metadata": {},
   "source": [
    "# merge adata"
   ]
  },
  {
   "cell_type": "code",
   "execution_count": 10,
   "metadata": {},
   "outputs": [
    {
     "data": {
      "text/plain": [
       "AnnData object with n_obs × n_vars = 42169 × 8161\n",
       "    obs: 'n_genes_by_counts', 'log1p_n_genes_by_counts', 'total_counts', 'log1p_total_counts', 'pct_counts_in_top_20_genes', 'total_counts_mt', 'log1p_total_counts_mt', 'pct_counts_mt', 'mt_outlier', 'genes_outlier', 'batch'"
      ]
     },
     "execution_count": 10,
     "metadata": {},
     "output_type": "execute_result"
    }
   ],
   "source": [
    "adata = anndata.concat([aae, alb_homo, cxtri_homo, cxpip_homog], join=\"inner\", label=\"batch\", keys=['aae', 'alb', 'cxtri', 'cxpip'])\n",
    "adata"
   ]
  },
  {
   "cell_type": "code",
   "execution_count": 11,
   "metadata": {},
   "outputs": [
    {
     "data": {
      "text/plain": [
       "Index(['CGATCGGTA_AACGTCCAA_AACAAGTGG-aae',\n",
       "       'CGCCAATGA_AACGTCCAA_AACAAGTGG-aae',\n",
       "       'TGCCTGATC_AACGTCCAA_AACAAGTGG-aae',\n",
       "       'GAGCAGCTT_ACACCAACG_AACAAGTGG-aae',\n",
       "       'TCCGTATCA_ACACCAACG_AACAAGTGG-aae',\n",
       "       'AACGGACCT_ACCAGGTCA_AACAAGTGG-aae',\n",
       "       'GCCTACGAT_ACCGTACTC_AACAAGTGG-aae',\n",
       "       'TAACCTACC_ACCGTACTC_AACAAGTGG-aae',\n",
       "       'GCGAGTAAC_ACCTGCTAC_AACAAGTGG-aae',\n",
       "       'TGAGCGAAG_AGACGAAGT_AACAAGTGG-aae',\n",
       "       ...\n",
       "       'TGTGGACACTTACACGACCACCAAGTC-cxpip',\n",
       "       'TGTGGACACTTACACGACCGGAATGCT-cxpip',\n",
       "       'TGTGGACACTTACACGACCGTCAACTG-cxpip',\n",
       "       'TGTGGACACTTCGAGGATGCCACATTG-cxpip',\n",
       "       'TGTGGACACTTGAGACAGAAGATCTGC-cxpip',\n",
       "       'TGTGGACACTTGCCGTCACTCTAACAC-cxpip',\n",
       "       'TGTGGACACTTGCCGTCAGAGTGATCT-cxpip',\n",
       "       'TGTGGACACTTGCCGTCAGAGTTCGTC-cxpip',\n",
       "       'TGTGGACACTTGGTGACCCCGTGTCAA-cxpip',\n",
       "       'TGTGGACACTTGGTGACCGGAGAGGAA-cxpip'],\n",
       "      dtype='object', length=42169)"
      ]
     },
     "execution_count": 11,
     "metadata": {},
     "output_type": "execute_result"
    }
   ],
   "source": [
    "adata.obs_names"
   ]
  },
  {
   "cell_type": "markdown",
   "metadata": {},
   "source": [
    "# Preprocessing data (scale)"
   ]
  },
  {
   "cell_type": "code",
   "execution_count": 12,
   "metadata": {},
   "outputs": [],
   "source": [
    "# keep the count information intact for scvi-tools models\n",
    "adata.layers[\"counts\"] = adata.X.copy()\n",
    "# scale data\n",
    "sc.pp.normalize_total(\n",
    "    adata, \n",
    "    target_sum=1e6, \n",
    "    exclude_highly_expressed=True\n",
    ")\n",
    "sc.pp.log1p(adata)\n",
    "# store the normalized values in .raw to keep them safe\n",
    "adata.raw = adata"
   ]
  },
  {
   "cell_type": "code",
   "execution_count": 13,
   "metadata": {},
   "outputs": [
    {
     "data": {
      "text/plain": [
       "AnnData object with n_obs × n_vars = 42169 × 8161\n",
       "    obs: 'n_genes_by_counts', 'log1p_n_genes_by_counts', 'total_counts', 'log1p_total_counts', 'pct_counts_in_top_20_genes', 'total_counts_mt', 'log1p_total_counts_mt', 'pct_counts_mt', 'mt_outlier', 'genes_outlier', 'batch'\n",
       "    uns: 'log1p'\n",
       "    layers: 'counts'"
      ]
     },
     "execution_count": 13,
     "metadata": {},
     "output_type": "execute_result"
    }
   ],
   "source": [
    "adata"
   ]
  },
  {
   "cell_type": "code",
   "execution_count": 14,
   "metadata": {},
   "outputs": [
    {
     "data": {
      "text/plain": [
       "CGATCGGTA_AACGTCCAA_AACAAGTGG-aae      aae\n",
       "CGCCAATGA_AACGTCCAA_AACAAGTGG-aae      aae\n",
       "TGCCTGATC_AACGTCCAA_AACAAGTGG-aae      aae\n",
       "GAGCAGCTT_ACACCAACG_AACAAGTGG-aae      aae\n",
       "TCCGTATCA_ACACCAACG_AACAAGTGG-aae      aae\n",
       "                                     ...  \n",
       "TGTGGACACTTGCCGTCACTCTAACAC-cxpip    cxpip\n",
       "TGTGGACACTTGCCGTCAGAGTGATCT-cxpip    cxpip\n",
       "TGTGGACACTTGCCGTCAGAGTTCGTC-cxpip    cxpip\n",
       "TGTGGACACTTGGTGACCCCGTGTCAA-cxpip    cxpip\n",
       "TGTGGACACTTGGTGACCGGAGAGGAA-cxpip    cxpip\n",
       "Name: batch, Length: 42169, dtype: category\n",
       "Categories (4, object): ['aae', 'alb', 'cxtri', 'cxpip']"
      ]
     },
     "execution_count": 14,
     "metadata": {},
     "output_type": "execute_result"
    }
   ],
   "source": [
    "adata.obs['batch']"
   ]
  },
  {
   "cell_type": "code",
   "execution_count": 15,
   "metadata": {},
   "outputs": [],
   "source": [
    "adata.write('1.pre_merge.h5ad')"
   ]
  }
 ],
 "metadata": {
  "kernelspec": {
   "display_name": "hy-scvi",
   "language": "python",
   "name": "python3"
  },
  "language_info": {
   "codemirror_mode": {
    "name": "ipython",
    "version": 3
   },
   "file_extension": ".py",
   "mimetype": "text/x-python",
   "name": "python",
   "nbconvert_exporter": "python",
   "pygments_lexer": "ipython3",
   "version": "3.12.9"
  }
 },
 "nbformat": 4,
 "nbformat_minor": 2
}
