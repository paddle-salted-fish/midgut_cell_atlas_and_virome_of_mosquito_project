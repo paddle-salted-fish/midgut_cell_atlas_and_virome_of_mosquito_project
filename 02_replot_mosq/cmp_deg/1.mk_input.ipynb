{
 "cells": [
  {
   "cell_type": "code",
   "execution_count": 1,
   "metadata": {},
   "outputs": [],
   "source": [
    "import scanpy as sc\n",
    "import anndata\n",
    "import pandas as pd\n",
    "from itertools import permutations\n",
    "import os\n",
    "from tqdm import tqdm"
   ]
  },
  {
   "cell_type": "code",
   "execution_count": 2,
   "metadata": {},
   "outputs": [
    {
     "data": {
      "text/plain": [
       "AnnData object with n_obs × n_vars = 42169 × 8161\n",
       "    obs: 'n_genes_by_counts', 'log1p_n_genes_by_counts', 'total_counts', 'log1p_total_counts', 'pct_counts_in_top_20_genes', 'total_counts_mt', 'log1p_total_counts_mt', 'pct_counts_mt', 'mt_outlier', 'genes_outlier', 'batch', '_scvi_batch', '_scvi_labels', 'leiden_res', 'pre_name', 'cluster', 'cluster_name'\n",
       "    uns: '_scvi_manager_uuid', '_scvi_uuid', 'batch_colors', 'leiden', 'leiden_res_colors', 'log1p', 'neighbors', 'umap'\n",
       "    obsm: 'X_scVI', 'X_scVI_MDE', 'X_umap'\n",
       "    layers: 'counts'\n",
       "    obsp: 'connectivities', 'distances'"
      ]
     },
     "execution_count": 2,
     "metadata": {},
     "output_type": "execute_result"
    }
   ],
   "source": [
    "ann = sc.read('../../20250327_merge_4mosq/4.ann.h5ad')\n",
    "# ann.obs_names = ann.obs_names.map(lambda x: x[:-3] if x.endswith('dv-dv') or x.endswith('bl-bl') else x)\n",
    "ann"
   ]
  },
  {
   "cell_type": "code",
   "execution_count": 3,
   "metadata": {},
   "outputs": [],
   "source": [
    "aae_path = '/public21/home/sc90258/huangying/analysis/12.pan_mosquito/20250318_replot_mosq/aae/1.QC.h5ad'\n",
    "alb_path = '/public21/home/sc90258/huangying/analysis/12.pan_mosquito/20250318_replot_mosq/alb/1.QC.h5ad'\n",
    "cxtri_path = '/public21/home/sc90258/huangying/analysis/12.pan_mosquito/20250318_replot_mosq/cxtri/1.QC.h5ad'\n",
    "cxpip_path = '/public21/home/sc90258/huangying/analysis/12.pan_mosquito/20250318_replot_mosq/cxpip/1.QC.h5ad'\n",
    "\n",
    "aae = sc.read(aae_path)\n",
    "aae.obs_names = [f'{i}-aae' for i in aae.obs_names]\n",
    "alb = sc.read(alb_path)\n",
    "alb.obs_names = [f'{i}-alb' for i in alb.obs_names]\n",
    "cxtri = sc.read(cxtri_path)\n",
    "cxtri.obs_names = [f'{i}-cxtri' for i in cxtri.obs_names]\n",
    "cxpip = sc.read(cxpip_path)\n",
    "cxpip.obs_names = [f'{i}-cxpip' for i in cxpip.obs_names]"
   ]
  },
  {
   "cell_type": "code",
   "execution_count": 4,
   "metadata": {},
   "outputs": [
    {
     "data": {
      "text/html": [
       "<div>\n",
       "<style scoped>\n",
       "    .dataframe tbody tr th:only-of-type {\n",
       "        vertical-align: middle;\n",
       "    }\n",
       "\n",
       "    .dataframe tbody tr th {\n",
       "        vertical-align: top;\n",
       "    }\n",
       "\n",
       "    .dataframe thead th {\n",
       "        text-align: right;\n",
       "    }\n",
       "</style>\n",
       "<table border=\"1\" class=\"dataframe\">\n",
       "  <thead>\n",
       "    <tr style=\"text-align: right;\">\n",
       "      <th></th>\n",
       "      <th>aae</th>\n",
       "      <th>alb</th>\n",
       "      <th>cxpip</th>\n",
       "      <th>cxtri</th>\n",
       "    </tr>\n",
       "  </thead>\n",
       "  <tbody>\n",
       "    <tr>\n",
       "      <th>0</th>\n",
       "      <td>LOC110673977</td>\n",
       "      <td>LOC109409628</td>\n",
       "      <td>LOC120416324</td>\n",
       "      <td>Ctri05375</td>\n",
       "    </tr>\n",
       "    <tr>\n",
       "      <th>1</th>\n",
       "      <td>LOC110673980</td>\n",
       "      <td>LOC115258594</td>\n",
       "      <td>LOC120427986</td>\n",
       "      <td>Ctri05761</td>\n",
       "    </tr>\n",
       "    <tr>\n",
       "      <th>2</th>\n",
       "      <td>LOC110673981</td>\n",
       "      <td>LOC109427304</td>\n",
       "      <td>LOC120415083</td>\n",
       "      <td>Ctri12482</td>\n",
       "    </tr>\n",
       "    <tr>\n",
       "      <th>3</th>\n",
       "      <td>LOC110673983</td>\n",
       "      <td>LOC109402949</td>\n",
       "      <td>LOC120425061</td>\n",
       "      <td>Ctri03408</td>\n",
       "    </tr>\n",
       "    <tr>\n",
       "      <th>4</th>\n",
       "      <td>LOC110673984</td>\n",
       "      <td>LOC134285458</td>\n",
       "      <td>LOC120428736</td>\n",
       "      <td>Ctri02287</td>\n",
       "    </tr>\n",
       "    <tr>\n",
       "      <th>...</th>\n",
       "      <td>...</td>\n",
       "      <td>...</td>\n",
       "      <td>...</td>\n",
       "      <td>...</td>\n",
       "    </tr>\n",
       "    <tr>\n",
       "      <th>8167</th>\n",
       "      <td>LOC5580326</td>\n",
       "      <td>LOC109420085</td>\n",
       "      <td>LOC120419188</td>\n",
       "      <td>Ctri05472</td>\n",
       "    </tr>\n",
       "    <tr>\n",
       "      <th>8168</th>\n",
       "      <td>LOC5580327</td>\n",
       "      <td>LOC109420086</td>\n",
       "      <td>LOC120419195</td>\n",
       "      <td>Ctri05473</td>\n",
       "    </tr>\n",
       "    <tr>\n",
       "      <th>8169</th>\n",
       "      <td>LOC5580329</td>\n",
       "      <td>LOC109420083</td>\n",
       "      <td>LOC120419194</td>\n",
       "      <td>Ctri05470</td>\n",
       "    </tr>\n",
       "    <tr>\n",
       "      <th>8170</th>\n",
       "      <td>LOC5580330</td>\n",
       "      <td>LOC109420082</td>\n",
       "      <td>LOC120422788</td>\n",
       "      <td>Ctri05866</td>\n",
       "    </tr>\n",
       "    <tr>\n",
       "      <th>8171</th>\n",
       "      <td>LOC5580331</td>\n",
       "      <td>LOC109420081</td>\n",
       "      <td>LOC120422783</td>\n",
       "      <td>Ctri05865</td>\n",
       "    </tr>\n",
       "  </tbody>\n",
       "</table>\n",
       "<p>8172 rows × 4 columns</p>\n",
       "</div>"
      ],
      "text/plain": [
       "               aae           alb         cxpip      cxtri\n",
       "0     LOC110673977  LOC109409628  LOC120416324  Ctri05375\n",
       "1     LOC110673980  LOC115258594  LOC120427986  Ctri05761\n",
       "2     LOC110673981  LOC109427304  LOC120415083  Ctri12482\n",
       "3     LOC110673983  LOC109402949  LOC120425061  Ctri03408\n",
       "4     LOC110673984  LOC134285458  LOC120428736  Ctri02287\n",
       "...            ...           ...           ...        ...\n",
       "8167    LOC5580326  LOC109420085  LOC120419188  Ctri05472\n",
       "8168    LOC5580327  LOC109420086  LOC120419195  Ctri05473\n",
       "8169    LOC5580329  LOC109420083  LOC120419194  Ctri05470\n",
       "8170    LOC5580330  LOC109420082  LOC120422788  Ctri05866\n",
       "8171    LOC5580331  LOC109420081  LOC120422783  Ctri05865\n",
       "\n",
       "[8172 rows x 4 columns]"
      ]
     },
     "execution_count": 4,
     "metadata": {},
     "output_type": "execute_result"
    }
   ],
   "source": [
    "homog = pd.read_csv('/public21/home/sc90258/huangying/analysis/12.pan_mosquito/20240830_homo_gene/mosquito_all_homog.csv')\n",
    "homog"
   ]
  },
  {
   "cell_type": "code",
   "execution_count": 42,
   "metadata": {},
   "outputs": [
    {
     "name": "stderr",
     "output_type": "stream",
     "text": [
      "0it [00:00, ?it/s]"
     ]
    },
    {
     "name": "stdout",
     "output_type": "stream",
     "text": [
      "> Write files to dir: 1.input/aae_vs_alb\n"
     ]
    },
    {
     "name": "stderr",
     "output_type": "stream",
     "text": [
      "/tmp/ipykernel_105702/1869771834.py:26: ImplicitModificationWarning: Trying to modify attribute `.obs` of view, initializing view as actual.\n",
      "  adata_merge.obs['cmp'] = adata_merge.obs['batch'].map(\n",
      "100%|██████████| 11/11 [00:01<00:00,  9.79it/s]\n",
      "1it [00:02,  2.87s/it]"
     ]
    },
    {
     "name": "stdout",
     "output_type": "stream",
     "text": [
      "> Write files to dir: 1.input/aae_vs_cxpip\n"
     ]
    },
    {
     "name": "stderr",
     "output_type": "stream",
     "text": [
      "/tmp/ipykernel_105702/1869771834.py:26: ImplicitModificationWarning: Trying to modify attribute `.obs` of view, initializing view as actual.\n",
      "  adata_merge.obs['cmp'] = adata_merge.obs['batch'].map(\n",
      "100%|██████████| 11/11 [00:00<00:00, 13.14it/s]\n",
      "2it [00:04,  2.33s/it]"
     ]
    },
    {
     "name": "stdout",
     "output_type": "stream",
     "text": [
      "> Write files to dir: 1.input/aae_vs_cxtri\n"
     ]
    },
    {
     "name": "stderr",
     "output_type": "stream",
     "text": [
      "/tmp/ipykernel_105702/1869771834.py:26: ImplicitModificationWarning: Trying to modify attribute `.obs` of view, initializing view as actual.\n",
      "  adata_merge.obs['cmp'] = adata_merge.obs['batch'].map(\n",
      "100%|██████████| 11/11 [00:01<00:00, 10.83it/s]\n",
      "3it [00:06,  2.16s/it]"
     ]
    },
    {
     "name": "stdout",
     "output_type": "stream",
     "text": [
      "> Write files to dir: 1.input/alb_vs_aae\n"
     ]
    },
    {
     "name": "stderr",
     "output_type": "stream",
     "text": [
      "/tmp/ipykernel_105702/1869771834.py:26: ImplicitModificationWarning: Trying to modify attribute `.obs` of view, initializing view as actual.\n",
      "  adata_merge.obs['cmp'] = adata_merge.obs['batch'].map(\n",
      "100%|██████████| 11/11 [00:01<00:00,  7.82it/s]\n",
      "4it [00:09,  2.52s/it]"
     ]
    },
    {
     "name": "stdout",
     "output_type": "stream",
     "text": [
      "> Write files to dir: 1.input/alb_vs_cxpip\n"
     ]
    },
    {
     "name": "stderr",
     "output_type": "stream",
     "text": [
      "/tmp/ipykernel_105702/1869771834.py:26: ImplicitModificationWarning: Trying to modify attribute `.obs` of view, initializing view as actual.\n",
      "  adata_merge.obs['cmp'] = adata_merge.obs['batch'].map(\n",
      "100%|██████████| 11/11 [00:01<00:00,  6.99it/s]\n",
      "5it [00:13,  2.75s/it]"
     ]
    },
    {
     "name": "stdout",
     "output_type": "stream",
     "text": [
      "> Write files to dir: 1.input/alb_vs_cxtri\n"
     ]
    },
    {
     "name": "stderr",
     "output_type": "stream",
     "text": [
      "/tmp/ipykernel_105702/1869771834.py:26: ImplicitModificationWarning: Trying to modify attribute `.obs` of view, initializing view as actual.\n",
      "  adata_merge.obs['cmp'] = adata_merge.obs['batch'].map(\n",
      "100%|██████████| 11/11 [00:01<00:00,  6.52it/s]\n",
      "6it [00:16,  2.87s/it]"
     ]
    },
    {
     "name": "stdout",
     "output_type": "stream",
     "text": [
      "> Write files to dir: 1.input/cxpip_vs_aae\n"
     ]
    },
    {
     "name": "stderr",
     "output_type": "stream",
     "text": [
      "/tmp/ipykernel_105702/1869771834.py:26: ImplicitModificationWarning: Trying to modify attribute `.obs` of view, initializing view as actual.\n",
      "  adata_merge.obs['cmp'] = adata_merge.obs['batch'].map(\n",
      "100%|██████████| 11/11 [00:01<00:00,  7.11it/s]\n",
      "7it [00:18,  2.81s/it]"
     ]
    },
    {
     "name": "stdout",
     "output_type": "stream",
     "text": [
      "> Write files to dir: 1.input/cxpip_vs_alb\n"
     ]
    },
    {
     "name": "stderr",
     "output_type": "stream",
     "text": [
      "/tmp/ipykernel_105702/1869771834.py:26: ImplicitModificationWarning: Trying to modify attribute `.obs` of view, initializing view as actual.\n",
      "  adata_merge.obs['cmp'] = adata_merge.obs['batch'].map(\n",
      "100%|██████████| 11/11 [00:02<00:00,  5.26it/s]\n",
      "8it [00:22,  3.14s/it]"
     ]
    },
    {
     "name": "stdout",
     "output_type": "stream",
     "text": [
      "> Write files to dir: 1.input/cxpip_vs_cxtri\n"
     ]
    },
    {
     "name": "stderr",
     "output_type": "stream",
     "text": [
      "/tmp/ipykernel_105702/1869771834.py:26: ImplicitModificationWarning: Trying to modify attribute `.obs` of view, initializing view as actual.\n",
      "  adata_merge.obs['cmp'] = adata_merge.obs['batch'].map(\n",
      "100%|██████████| 11/11 [00:01<00:00,  5.72it/s]\n",
      "9it [00:25,  3.07s/it]"
     ]
    },
    {
     "name": "stdout",
     "output_type": "stream",
     "text": [
      "> Write files to dir: 1.input/cxtri_vs_aae\n"
     ]
    },
    {
     "name": "stderr",
     "output_type": "stream",
     "text": [
      "/tmp/ipykernel_105702/1869771834.py:26: ImplicitModificationWarning: Trying to modify attribute `.obs` of view, initializing view as actual.\n",
      "  adata_merge.obs['cmp'] = adata_merge.obs['batch'].map(\n",
      "100%|██████████| 11/11 [00:01<00:00,  6.69it/s]\n",
      "10it [00:28,  2.95s/it]"
     ]
    },
    {
     "name": "stdout",
     "output_type": "stream",
     "text": [
      "> Write files to dir: 1.input/cxtri_vs_alb\n"
     ]
    },
    {
     "name": "stderr",
     "output_type": "stream",
     "text": [
      "/tmp/ipykernel_105702/1869771834.py:26: ImplicitModificationWarning: Trying to modify attribute `.obs` of view, initializing view as actual.\n",
      "  adata_merge.obs['cmp'] = adata_merge.obs['batch'].map(\n",
      "100%|██████████| 11/11 [00:02<00:00,  4.57it/s]\n",
      "11it [00:32,  3.25s/it]"
     ]
    },
    {
     "name": "stdout",
     "output_type": "stream",
     "text": [
      "> Write files to dir: 1.input/cxtri_vs_cxpip\n"
     ]
    },
    {
     "name": "stderr",
     "output_type": "stream",
     "text": [
      "/tmp/ipykernel_105702/1869771834.py:26: ImplicitModificationWarning: Trying to modify attribute `.obs` of view, initializing view as actual.\n",
      "  adata_merge.obs['cmp'] = adata_merge.obs['batch'].map(\n",
      "100%|██████████| 11/11 [00:02<00:00,  3.83it/s]\n",
      "12it [00:36,  3.01s/it]\n"
     ]
    }
   ],
   "source": [
    "odir = '1.input'\n",
    "for trt, ctl in tqdm(permutations(['aae', 'alb', 'cxpip', 'cxtri'], 2)):\n",
    "    opath = os.path.join(odir, f'{trt}_vs_{ctl}')\n",
    "    if not os.path.exists(opath):\n",
    "        os.mkdir(opath)\n",
    "    print(f'> Write files to dir: {opath}')\n",
    "\n",
    "    adata = eval(ctl)\n",
    "    dct = dict(homog[[ctl, trt]].values)\n",
    "    var_names_sub = [i for i in adata.var_names if i in dct.keys()]\n",
    "    homo_var_names = [dct[i] for i in adata.var_names if i in dct.keys()]\n",
    "    adata_homo = adata[:, var_names_sub]\n",
    "    adata_homo.var_names = homo_var_names\n",
    "\n",
    "    eval(trt).obs_names_make_unique()\n",
    "    adata_homo.obs_names_make_unique()\n",
    "    eval(trt).var_names_make_unique()\n",
    "    adata_homo.var_names_make_unique()\n",
    "\n",
    "    adata_merge = anndata.concat(\n",
    "        [eval(trt), adata_homo], join=\"inner\", label=\"batch\", keys=[trt, ctl])\n",
    "\n",
    "    adata_merge.obs['cluster'] = ann.obs[\n",
    "        ann.obs['batch'].isin([trt, ctl])]['cluster']\n",
    "    adata_merge = adata_merge[~adata_merge.obs['cluster'].isna()]\n",
    "    adata_merge.obs['cmp'] = adata_merge.obs['batch'].map(\n",
    "        lambda x: 1 if x == trt else 0)\n",
    "\n",
    "    for cell in tqdm(adata_merge.obs['cluster'].unique()):\n",
    "        ofile = os.path.join(opath, cell.replace(r'/', '-') + '.h5ad')\n",
    "        adata_merge[adata_merge.obs['cluster'] == cell].write(ofile)"
   ]
  },
  {
   "cell_type": "code",
   "execution_count": 5,
   "metadata": {},
   "outputs": [
    {
     "name": "stdout",
     "output_type": "stream",
     "text": [
      "> Write files to dir: 1.input/aae.alb_vs_cxtri.cxpip\n"
     ]
    },
    {
     "name": "stderr",
     "output_type": "stream",
     "text": [
      "/tmp/ipykernel_27021/2916162298.py:30: ImplicitModificationWarning: Trying to modify attribute `.obs` of view, initializing view as actual.\n",
      "  adata_merge.obs['cmp'] = adata_merge.obs['batch'].map(\n",
      "100%|██████████| 11/11 [00:01<00:00,  8.42it/s]\n"
     ]
    },
    {
     "name": "stdout",
     "output_type": "stream",
     "text": [
      "> Write files to dir: 1.input/cxtri.cxpip_vs_aae.alb\n"
     ]
    },
    {
     "name": "stderr",
     "output_type": "stream",
     "text": [
      "100%|██████████| 11/11 [00:01<00:00,  9.51it/s]\n"
     ]
    }
   ],
   "source": [
    "odir = '1.input'\n",
    "\n",
    "def gname_to_aae(adata, sp):\n",
    "    dct = dict(homog[[sp, 'aae']].values)\n",
    "    var_names_sub = [i for i in adata.var_names if i in dct.keys()]\n",
    "    homo_var_names = [dct[i] for i in adata.var_names if i in dct.keys()]\n",
    "    adata_homo = adata[:, var_names_sub]\n",
    "    adata_homo.var_names = homo_var_names\n",
    "\n",
    "    return adata_homo\n",
    "\n",
    "alb_homo = gname_to_aae(alb, 'alb')\n",
    "cxpip_homog = gname_to_aae(cxpip, 'cxpip')\n",
    "cxtri_homo = gname_to_aae(cxtri, 'cxtri')\n",
    "\n",
    "adata_merge = anndata.concat(\n",
    "    [aae, alb_homo, cxtri_homo, cxpip_homog], \n",
    "    join=\"inner\", label=\"batch\", keys=['aae', 'alb', 'cxtri', 'cxpip'])\n",
    "\n",
    "adata_merge.obs['cluster'] = ann.obs['cluster']\n",
    "adata_merge = adata_merge[~adata_merge.obs['cluster'].isna()]\n",
    "\n",
    "for trt, ctl in permutations([['aae', 'alb'], ['cxtri', 'cxpip']], 2):\n",
    "\n",
    "    opath = os.path.join(odir, f'{'.'.join(trt)}_vs_{'.'.join(ctl)}')\n",
    "    if not os.path.exists(opath):\n",
    "        os.mkdir(opath)\n",
    "    print(f'> Write files to dir: {opath}')\n",
    "\n",
    "    adata_merge.obs['cmp'] = adata_merge.obs['batch'].map(\n",
    "        lambda x: 1 if x in trt else 0)\n",
    "\n",
    "    for cell in tqdm(adata_merge.obs['cluster'].unique()):\n",
    "        ofile = os.path.join(opath, cell.replace(r'/', '-') + '.h5ad')\n",
    "        adata_merge[adata_merge.obs['cluster'] == cell].write(ofile)"
   ]
  }
 ],
 "metadata": {
  "kernelspec": {
   "display_name": "hy-scanpy",
   "language": "python",
   "name": "python3"
  },
  "language_info": {
   "codemirror_mode": {
    "name": "ipython",
    "version": 3
   },
   "file_extension": ".py",
   "mimetype": "text/x-python",
   "name": "python",
   "nbconvert_exporter": "python",
   "pygments_lexer": "ipython3",
   "version": "3.12.9"
  }
 },
 "nbformat": 4,
 "nbformat_minor": 2
}
