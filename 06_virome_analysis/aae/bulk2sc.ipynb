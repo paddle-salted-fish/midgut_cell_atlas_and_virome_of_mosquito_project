{
 "cells": [
  {
   "cell_type": "code",
   "execution_count": 1,
   "id": "2ebb021d",
   "metadata": {},
   "outputs": [],
   "source": [
    "from pathlib import Path\n",
    "import scanpy as sc\n",
    "import re, sys\n",
    "import pandas as pd"
   ]
  },
  {
   "cell_type": "code",
   "execution_count": 13,
   "id": "b472b643",
   "metadata": {},
   "outputs": [],
   "source": [
    "def parse_sam(file):\n",
    "\tresult = set()\n",
    "\twith open(file, 'r') as inputFile:\n",
    "\t\tfor line in inputFile.readlines():\n",
    "\t\t\tfields = line.split('\\t')\n",
    "\t\t\tacc = fields[2]\n",
    "\t\t\tfor item in fields[19:]:\n",
    "\t\t\t\tif item.find('CB:Z:') > -1:\n",
    "\t\t\t\t\tbarcode = re.sub(r'CB:Z:', r'', item)\n",
    "\t\t\t\tif item.find('UB:Z:') > -1:\n",
    "\t\t\t\t\tumi = re.sub(r'UB:Z:', '', item)\n",
    "\t\t\tresult.add(f'{acc}\\t{barcode}\\t{umi}')\n",
    "\treturn result\n",
    "\n",
    "def generate_table(data, target_set, target_name, suffix):\n",
    "\tfiltered_data = []\n",
    "\tfor item in data:\n",
    "\t\tif item.split('\\t')[0] in target_set:\n",
    "\t\t\tfiltered_data.append(item)\n",
    "\n",
    "\twith open('exp_aae_denv.txt', 'w') as outputFile:\n",
    "\t\tfor item in filtered_data:\n",
    "\t\t\toutputFile.write(item)\n",
    "\ttable = pd.read_table('exp_aae_denv.txt', header=None, delimiter='\\t')\n",
    "\ttable.columns = ['Accession', 'Barcode', 'UMI']\n",
    "\ttable['Accession'] = table['Accession'].map(lambda x: target_name[x])\n",
    "\ttable = table[table['Barcode'] != '-']\n",
    "\ttable = table[table['UMI'] != '-']\n",
    "\ttable = table.groupby(['Accession', 'Barcode'])['UMI'].count().reset_index()\n",
    "\ttable['Barcode'] = table['Barcode'] + suffix\n",
    "\tPath('exp_aae_denv.txt').unlink()\n",
    "\treturn table\n",
    "\n",
    "def write2csv(adata, table, target_name, suffix):\n",
    "\tumap_df = pd.DataFrame(\n",
    "\tadata.obsm['X_umap'], \n",
    "\tindex=adata.obs_names,\n",
    "\tcolumns=['UMAP_1', 'UMAP_2']  # 列名可自定义\n",
    "\t)\n",
    "\tumap_df = pd.concat([adata.obs['cluster'], umap_df], axis=1).reset_index()\n",
    "\tumap_df.columns = ['Barcode', 'Cluster', 'UMAP_1', 'UMAP_2']\n",
    "\tumap_df.to_csv('temp.csv', header=True, index=False)\n",
    "\tumap_df = pd.read_csv('temp.csv', header=0)\n",
    "\tfor name in target_name.values():\n",
    "\t\ttemp_column = table[table['Accession'] == name][['Barcode', 'UMI']]\n",
    "\t\tumap_df = umap_df.merge(temp_column, how='left', on='Barcode').fillna(0)\n",
    "\tumap_df.columns = ['Barcode', 'Cluster', 'UMAP_1', 'UMAP_2'] + list(target_name.values())\n",
    "\tumap_df.to_csv(f'exp_{suffix}.csv', index=False)\n",
    "\tPath('temp.csv').unlink()\n",
    "\tprint(umap_df)"
   ]
  },
  {
   "cell_type": "code",
   "execution_count": 4,
   "id": "c3af5fb0",
   "metadata": {},
   "outputs": [],
   "source": [
    "data = parse_sam('exp_aae.sam')"
   ]
  },
  {
   "cell_type": "code",
   "execution_count": 5,
   "id": "9d52f628",
   "metadata": {},
   "outputs": [],
   "source": [
    "target_set = ['MW174761.1', 'ON949933.1']\n",
    "target_name = {\n",
    "\t'MW174761.1': 'Totichi',\n",
    "\t'ON949933.1': 'HKIFV'\n",
    "}\n",
    "table = generate_table(data, target_set, target_name, '-aae')"
   ]
  },
  {
   "cell_type": "code",
   "execution_count": 14,
   "id": "337eef45",
   "metadata": {},
   "outputs": [
    {
     "name": "stdout",
     "output_type": "stream",
     "text": [
      "                                Barcode      Cluster    UMAP_1     UMAP_2  \\\n",
      "0     CGATCGGTA_AACGTCCAA_AACAAGTGG-aae     ISC/EB-1 -0.519856  -3.288706   \n",
      "1     CGCCAATGA_AACGTCCAA_AACAAGTGG-aae    EC-like-2  1.661915   2.763340   \n",
      "2     TGCCTGATC_AACGTCCAA_AACAAGTGG-aae           EC -0.046305  17.824047   \n",
      "3     GAGCAGCTT_ACACCAACG_AACAAGTGG-aae     ISC/EB-1 -1.831209  -1.088367   \n",
      "4     TCCGTATCA_ACACCAACG_AACAAGTGG-aae  ISC/EB-prol  2.184209  -4.082183   \n",
      "...                                 ...          ...       ...        ...   \n",
      "9213  TACCTCTCC_TTACACGAC_TTGTGTACG-aae           EC  3.955785  12.939748   \n",
      "9214  CGCAACTAC_TTCCAATCG_TTGTGTACG-aae    EC-like-1  4.432151  10.048210   \n",
      "9215  TCGGTTCGT_TTCCAATCG_TTGTGTACG-aae         EE-1 -7.767694  -0.853176   \n",
      "9216  CAGAGTACA_TTGAGACAG_TTGTGTACG-aae    EC-like-1  2.330974   5.904183   \n",
      "9217  CGCAACTAC_TTGGTGACC_TTGTGTACG-aae  ISC/EB-prol  2.210938  -5.192821   \n",
      "\n",
      "      Totichi  HKIFV  \n",
      "0         0.0    3.0  \n",
      "1         0.0    5.0  \n",
      "2         0.0    3.0  \n",
      "3         0.0    6.0  \n",
      "4         0.0    3.0  \n",
      "...       ...    ...  \n",
      "9213      1.0    1.0  \n",
      "9214      0.0    6.0  \n",
      "9215      0.0   14.0  \n",
      "9216      0.0   12.0  \n",
      "9217      1.0    9.0  \n",
      "\n",
      "[9218 rows x 6 columns]\n"
     ]
    }
   ],
   "source": [
    "adata = sc.read('../../../processed_h5ad/aae_bl_denv.h5ad')\n",
    "adata = adata[adata.obs['batch'] == 'aae']\n",
    "write2csv(adata, table, target_name, 'aae')"
   ]
  }
 ],
 "metadata": {
  "kernelspec": {
   "display_name": "Scanpy1.11.1",
   "language": "python",
   "name": "python3"
  },
  "language_info": {
   "codemirror_mode": {
    "name": "ipython",
    "version": 3
   },
   "file_extension": ".py",
   "mimetype": "text/x-python",
   "name": "python",
   "nbconvert_exporter": "python",
   "pygments_lexer": "ipython3",
   "version": "3.12.9"
  }
 },
 "nbformat": 4,
 "nbformat_minor": 5
}
