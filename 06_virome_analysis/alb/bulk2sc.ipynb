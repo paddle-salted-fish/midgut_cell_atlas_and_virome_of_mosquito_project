{
 "cells": [
  {
   "cell_type": "code",
   "execution_count": 1,
   "id": "2ebb021d",
   "metadata": {},
   "outputs": [],
   "source": [
    "from pathlib import Path\n",
    "import scanpy as sc\n",
    "import re, sys\n",
    "import pandas as pd"
   ]
  },
  {
   "cell_type": "code",
   "execution_count": 15,
   "id": "b472b643",
   "metadata": {},
   "outputs": [],
   "source": [
    "def parse_sam(file):\n",
    "\tresult = set()\n",
    "\twith open(file, 'r') as inputFile:\n",
    "\t\tfor line in inputFile.readlines():\n",
    "\t\t\tfields = line.split('\\t')\n",
    "\t\t\tacc = fields[2]\n",
    "\t\t\tfor item in fields[19:]:\n",
    "\t\t\t\tif item.find('CB:Z:') > -1:\n",
    "\t\t\t\t\tbarcode = re.sub(r'CB:Z:', r'', item)\n",
    "\t\t\t\tif item.find('UB:Z:') > -1:\n",
    "\t\t\t\t\tumi = re.sub(r'UB:Z:', '', item)\n",
    "\t\t\tresult.add(f'{acc}\\t{barcode}\\t{umi}')\n",
    "\treturn result\n",
    "\n",
    "def generate_table(data, target_set, target_name, suffix):\n",
    "\tfiltered_data = []\n",
    "\tfor item in data:\n",
    "\t\tif item.split('\\t')[0] in target_set:\n",
    "\t\t\tfiltered_data.append(item)\n",
    "\n",
    "\twith open('exp_aae_denv.txt', 'w') as outputFile:\n",
    "\t\tfor item in filtered_data:\n",
    "\t\t\toutputFile.write(item)\n",
    "\ttable = pd.read_table('exp_aae_denv.txt', header=None, delimiter='\\t')\n",
    "\ttable.columns = ['Accession', 'Barcode', 'UMI']\n",
    "\ttable['Accession'] = table['Accession'].map(lambda x: target_name[x])\n",
    "\ttable = table[table['Barcode'] != '-']\n",
    "\ttable = table[table['UMI'] != '-']\n",
    "\ttable = table.groupby(['Accession', 'Barcode'])['UMI'].count().reset_index()\n",
    "\ttable['Barcode'] = table['Barcode'] + suffix\n",
    "\tPath('exp_aae_denv.txt').unlink()\n",
    "\treturn table\n",
    "\n",
    "def write2csv(adata, table, target_name, suffix):\n",
    "\tumap_df = pd.DataFrame(\n",
    "\tadata.obsm['X_umap'], \n",
    "\tindex=adata.obs_names,\n",
    "\tcolumns=['UMAP_1', 'UMAP_2']  # 列名可自定义\n",
    "\t)\n",
    "\tumap_df = pd.concat([adata.obs['cluster'], umap_df], axis=1).reset_index()\n",
    "\tumap_df.columns = ['Barcode', 'Cluster', 'UMAP_1', 'UMAP_2']\n",
    "\tumap_df.to_csv('temp.csv', header=True, index=False)\n",
    "\tumap_df = pd.read_csv('temp.csv', header=0)\n",
    "\tfor name in target_name:\n",
    "\t\tcol_name = list(umap_df.columns)\n",
    "\t\ttemp_column = table[table['Accession'] == name][['Barcode', 'UMI']]\n",
    "\t\tumap_df = umap_df.merge(temp_column, how='left', on='Barcode').fillna(0)\n",
    "\t\tumap_df.columns = col_name + [name]\n",
    "\tumap_df.to_csv(f'exp_{suffix}.csv', index=False)\n",
    "\tPath('temp.csv').unlink()\n",
    "\tprint(umap_df)"
   ]
  },
  {
   "cell_type": "code",
   "execution_count": 3,
   "id": "c3af5fb0",
   "metadata": {},
   "outputs": [],
   "source": [
    "data = parse_sam('exp_alb.sam')"
   ]
  },
  {
   "cell_type": "code",
   "execution_count": 4,
   "id": "9d52f628",
   "metadata": {},
   "outputs": [
    {
     "data": {
      "text/plain": [
       "array(['HKIFV', 'TMBPTLV', 'TMBSTLV2', 'Totichi'], dtype=object)"
      ]
     },
     "execution_count": 4,
     "metadata": {},
     "output_type": "execute_result"
    }
   ],
   "source": [
    "target_set = ['MW174761.1', 'ON949933.1', 'PP510875.1',\n",
    "\t\t\t  'PP510876.1', 'BK059489.1', 'BK059490.1']\n",
    "target_name = {\n",
    "\t'MW174761.1': 'Totichi',\n",
    "\t'ON949933.1': 'HKIFV',\n",
    "\t'PP510875.1': 'TMBPTLV',\n",
    "\t'PP510876.1': 'TMBPTLV',\n",
    "\t'BK059489.1': 'TMBSTLV2',\n",
    "\t'BK059490.1': 'TMBSTLV2'\n",
    "}\n",
    "table = generate_table(data, target_set, target_name, '')\n",
    "table.Accession.unique()"
   ]
  },
  {
   "cell_type": "code",
   "execution_count": 17,
   "id": "337eef45",
   "metadata": {},
   "outputs": [
    {
     "name": "stdout",
     "output_type": "stream",
     "text": [
      "                             Barcode      Cluster     UMAP_1    UMAP_2  \\\n",
      "0      CTCACGTTC_AACGCTAGT_AACAAGTGG    EC-like-1   3.356602  4.737028   \n",
      "1      AATCGCCAC_AACGTCCAA_AACAAGTGG           EC   0.227536  8.939644   \n",
      "2      CTTACGCAG_AACGTCCAA_AACAAGTGG         EE-1  -5.031310  5.924231   \n",
      "3      GAACGCTAT_AACGTCCAA_AACAAGTGG  ISC/EB-prol  -0.711623 -0.554777   \n",
      "4      ACGAAGCTC_AAGGTGGTA_AACAAGTGG     Cardia-2   6.571848  1.559371   \n",
      "...                              ...          ...        ...       ...   \n",
      "17533  GTTACTGGT_TGGACTTGT_TTGTGTACG    EC-like-2   2.133067  2.314789   \n",
      "17534  GATGGCTCA_TGGTCAGTT_TTGTGTACG     Cardia-2  11.537580  4.939885   \n",
      "17535  ATCGACACG_TTGAGACAG_TTGTGTACG  ISC/EB-prol  -1.702858 -0.475249   \n",
      "17536  GAGCAGCTT_TTGAGACAG_TTGTGTACG     Cardia-2  11.414620  4.270540   \n",
      "17537  TACCTCTCC_TTGAGACAG_TTGTGTACG     Cardia-1   5.500094  3.699416   \n",
      "\n",
      "       Totichi  HKIFV  TMBPTLV  TMBSTLV2  \n",
      "0          0.0    0.0      0.0       3.0  \n",
      "1          0.0    0.0      0.0       1.0  \n",
      "2          0.0    0.0      0.0       0.0  \n",
      "3          0.0    0.0      0.0       0.0  \n",
      "4          0.0    0.0      0.0       2.0  \n",
      "...        ...    ...      ...       ...  \n",
      "17533      0.0    0.0      0.0       0.0  \n",
      "17534      0.0    0.0      0.0       0.0  \n",
      "17535      0.0    0.0      0.0       0.0  \n",
      "17536      0.0    0.0      0.0       0.0  \n",
      "17537      0.0    0.0      0.0       2.0  \n",
      "\n",
      "[17538 rows x 8 columns]\n"
     ]
    }
   ],
   "source": [
    "adata = sc.read('../../../UMAP_h5ad/alb.h5ad')\n",
    "write2csv(adata, table, ['Totichi', 'HKIFV', 'TMBPTLV', 'TMBSTLV2'], 'alb')"
   ]
  },
  {
   "cell_type": "code",
   "execution_count": 25,
   "id": "ac9e39f3",
   "metadata": {},
   "outputs": [
    {
     "data": {
      "application/vnd.microsoft.datawrangler.viewer.v0+json": {
       "columns": [
        {
         "name": "TMBSTLV2",
         "rawType": "int64",
         "type": "integer"
        },
        {
         "name": "count",
         "rawType": "int64",
         "type": "integer"
        }
       ],
       "ref": "3fe220bf-17d7-4609-b9e2-3af85e86d40a",
       "rows": [
        [
         "1",
         "12793"
        ],
        [
         "0",
         "4745"
        ]
       ],
       "shape": {
        "columns": 1,
        "rows": 2
       }
      },
      "text/plain": [
       "TMBSTLV2\n",
       "1    12793\n",
       "0     4745\n",
       "Name: count, dtype: int64"
      ]
     },
     "execution_count": 25,
     "metadata": {},
     "output_type": "execute_result"
    }
   ],
   "source": [
    "parc['TMBSTLV2'].map(lambda x: 1 if x > 0 else 0).value_counts()"
   ]
  }
 ],
 "metadata": {
  "kernelspec": {
   "display_name": "Scanpy1.11.1",
   "language": "python",
   "name": "python3"
  },
  "language_info": {
   "codemirror_mode": {
    "name": "ipython",
    "version": 3
   },
   "file_extension": ".py",
   "mimetype": "text/x-python",
   "name": "python",
   "nbconvert_exporter": "python",
   "pygments_lexer": "ipython3",
   "version": "3.12.9"
  }
 },
 "nbformat": 4,
 "nbformat_minor": 5
}
